{
 "cells": [
  {
   "cell_type": "code",
   "execution_count": 117,
   "metadata": {
    "scrolled": true
   },
   "outputs": [],
   "source": [
    "import pandas as pd\n",
    "import numpy as np\n",
    "\n",
    "df = pd.read_csv(\"students.csv\")\n",
    "df = df[df[\"Degree\"] == \"BS\"]\n",
    "df  = df[[\"Fall\", \"College\", \"Major Name\", \"Total\"]]\n",
    "df = df[df[\"Major Name\"] != float('nan')]\n",
    "\n",
    "# split startpoint and endpoint data for slope graph\n",
    "startYear = df[df[\"Fall\"] == 2004].drop(\"Fall\", axis=1)\n",
    "endYear = df[df[\"Fall\"] == 2018].drop(\"Fall\", axis=1)\n",
    "\n",
    "# elements is a series of total strings for each row\n",
    "def totalSum(elements):          \n",
    "    elements = elements.apply(int) # convert strings to ints\n",
    "    return elements.sum()\n",
    "    \n",
    "# sum the total columns for majors that appear more than once\n",
    "startYear = startYear.groupby([\"College\", \"Major Name\"]).agg(totalSum)\n",
    "endYear = endYear.groupby([\"College\", \"Major Name\"]).agg(totalSum)\n",
    "\n",
    "# merge into one dataset and export (how=inner is the intersection of labels)\n",
    "df = startYear.merge(endYear, how=\"inner\", on=[\"College\", \"Major Name\"])\n",
    "df.columns = [\"2004\", \"2018\"]\n",
    "df.to_csv(\"relevant_data.csv\")"
   ]
  },
  {
   "cell_type": "code",
   "execution_count": null,
   "metadata": {},
   "outputs": [],
   "source": []
  }
 ],
 "metadata": {
  "kernelspec": {
   "display_name": "Python 3",
   "language": "python",
   "name": "python3"
  },
  "language_info": {
   "codemirror_mode": {
    "name": "ipython",
    "version": 3
   },
   "file_extension": ".py",
   "mimetype": "text/x-python",
   "name": "python",
   "nbconvert_exporter": "python",
   "pygments_lexer": "ipython3",
   "version": "3.7.2"
  }
 },
 "nbformat": 4,
 "nbformat_minor": 2
}
