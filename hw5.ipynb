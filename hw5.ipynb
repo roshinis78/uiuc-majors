{
 "cells": [
  {
   "cell_type": "code",
   "execution_count": 1,
   "metadata": {
    "scrolled": true
   },
   "outputs": [],
   "source": [
    "import pandas as pd\n",
    "import numpy as np\n",
    "\n",
    "df = pd.read_csv(\"students.csv\")\n",
    "df = df[df[\"Degree\"] == \"BS\"]\n",
    "df  = df[[\"Fall\", \"College\", \"Major Name\", \"Total\"]]\n",
    "df = df[df[\"Major Name\"] != float('nan')]\n",
    "\n",
    "# split into something\n",
    "startYear = df[df[\"Fall\"] == 2004].drop(\"Fall\", axis=1)\n",
    "endYear = df[df[\"Fall\"] == 2018].drop(\"Fall\", axis=1)\n",
    "\n",
    "def test_sum(series):\n",
    "    total = 0\n",
    "    for i in series:\n",
    "        total += int(i)\n",
    "    return total\n",
    "    \n",
    "startYear = startYear.groupby([\"Fall\", \"Major Name\", \"College\"]).agg({'Total': test_sum})\n",
    "endYear = endYear.groupby([\"Fall\", \"Major Name\", \"College\"]).agg({'Total': test_sum})"
   ]
  },
  {
   "cell_type": "code",
   "execution_count": 2,
   "metadata": {},
   "outputs": [],
   "source": [
    "startYear.to_csv(\"start.csv\")\n",
    "endYear.to_csv(\"end.csv\")"
   ]
  },
  {
   "cell_type": "code",
   "execution_count": null,
   "metadata": {},
   "outputs": [],
   "source": []
  },
  {
   "cell_type": "code",
   "execution_count": null,
   "metadata": {},
   "outputs": [],
   "source": []
  }
 ],
 "metadata": {
  "kernelspec": {
   "display_name": "Python 3",
   "language": "python",
   "name": "python3"
  },
  "language_info": {
   "codemirror_mode": {
    "name": "ipython",
    "version": 3
   },
   "file_extension": ".py",
   "mimetype": "text/x-python",
   "name": "python",
   "nbconvert_exporter": "python",
   "pygments_lexer": "ipython3",
   "version": "3.7.1"
  }
 },
 "nbformat": 4,
 "nbformat_minor": 2
}
