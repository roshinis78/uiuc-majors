{
 "cells": [
  {
   "cell_type": "code",
   "execution_count": 28,
   "metadata": {
    "scrolled": true
   },
   "outputs": [
    {
     "data": {
      "text/plain": [
       "Major Name\n",
       "Accountancy                                         84255\n",
       "Advertising                                           242\n",
       "Aero & Astro Engineering                              361\n",
       "Agr & Environmental Cmc & Educ                     608836\n",
       "Agribusiness, Farm & Financial                   76674598\n",
       "Agricultural Engineering                               56\n",
       "Animal Sciences                               12310422351\n",
       "Architectural Studies                                 547\n",
       "Aviation Human Factors                                189\n",
       "Biochemistry                                          178\n",
       "Bioengineering                                         22\n",
       "Business Administration                  4039144329113821\n",
       "Chemical Engineering                                  304\n",
       "Chemistry                                             125\n",
       "Civil Engineering                                     450\n",
       "Community Health                               1295713823\n",
       "Computer Engineering                                  636\n",
       "Computer Science                                    71010\n",
       "Consumer and Textile Marketing                        981\n",
       "Crop Sciences                                    21727344\n",
       "Early Childhood Education                2113111122212118\n",
       "Economics                                              30\n",
       "Education General                                     295\n",
       "Electrical Engineering                                868\n",
       "Elementary Education               1231462465752140173246\n",
       "Engineering Mechanics                                  72\n",
       "Engineering Physics                                   102\n",
       "Finance                                            145626\n",
       "Food Science & Human Nutrition                 4840759995\n",
       "Forestry                                               41\n",
       "General Engineering                                   581\n",
       "Geology                                               131\n",
       "Horticulture                                         6635\n",
       "Human Development & Family St                       13360\n",
       "Industrial Engineering                                 70\n",
       "Intl, Resource, Consumer Econ                     1018364\n",
       "Kinesiology                                       4743336\n",
       "Leisure Studies                               15521312142\n",
       "Materials Science & Engr                              225\n",
       "Mechanical Engineering                                777\n",
       "Media Studies                                         101\n",
       "Natural Resrcs & Environ Sci              281766314293491\n",
       "Nuclear Engineering                                    98\n",
       "Physics                                                84\n",
       "Special Education                                      71\n",
       "Speech & Hearing Science                              224\n",
       "Name: Total, dtype: object"
      ]
     },
     "execution_count": 28,
     "metadata": {},
     "output_type": "execute_result"
    }
   ],
   "source": [
    "import pandas as pd\n",
    "import numpy as np\n",
    "\n",
    "df = pd.read_csv(\"students.csv\")\n",
    "df = df[df[\"Degree\"] == \"BS\"]\n",
    "df  = df[[\"Fall\", \"College\", \"Major Name\", \"Total\"]]\n",
    "df = df[df[\"Major Name\"] != float('nan')]\n",
    "\n",
    "# split into something\n",
    "startYear = df[df[\"Fall\"] == 2004]\n",
    "endYear = df[df[\"Fall\"] == 2018]\n",
    "\n",
    "startYear.groupby(by=\"Major Name\")[\"Total\"].agg(sum)\n"
   ]
  },
  {
   "cell_type": "code",
   "execution_count": 3,
   "metadata": {},
   "outputs": [],
   "source": [
    "df.to_csv(\"relevant_values.csv\")"
   ]
  },
  {
   "cell_type": "code",
   "execution_count": null,
   "metadata": {},
   "outputs": [],
   "source": []
  },
  {
   "cell_type": "code",
   "execution_count": null,
   "metadata": {},
   "outputs": [],
   "source": []
  }
 ],
 "metadata": {
  "kernelspec": {
   "display_name": "Python 3",
   "language": "python",
   "name": "python3"
  },
  "language_info": {
   "codemirror_mode": {
    "name": "ipython",
    "version": 3
   },
   "file_extension": ".py",
   "mimetype": "text/x-python",
   "name": "python",
   "nbconvert_exporter": "python",
   "pygments_lexer": "ipython3",
   "version": "3.7.2"
  }
 },
 "nbformat": 4,
 "nbformat_minor": 2
}
