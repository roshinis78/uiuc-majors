{
 "cells": [
  {
   "cell_type": "code",
   "execution_count": 126,
   "metadata": {},
   "outputs": [
    {
     "data": {
      "text/plain": [
       "Fall  Major Name                     \n",
       "2004  Accountancy                                         84255\n",
       "      Advertising                                           242\n",
       "      Aero & Astro Engineering                              361\n",
       "      Agr & Environmental Cmc & Educ                     836860\n",
       "      Agribusiness, Farm & Financial                   76674598\n",
       "      Agricultural Engineering                               56\n",
       "      Animal Sciences                               12310422351\n",
       "      Architectural Studies                                 547\n",
       "      Aviation Human Factors                                189\n",
       "      Biochemistry                                          178\n",
       "      Bioengineering                                         22\n",
       "      Business Administration                  4039144329113821\n",
       "      Chemical Engineering                                  304\n",
       "      Chemistry                                             125\n",
       "      Civil Engineering                                     450\n",
       "      Community Health                               2357138129\n",
       "      Computer Engineering                                  636\n",
       "      Computer Science                                    71010\n",
       "      Consumer and Textile Marketing                        981\n",
       "      Crop Sciences                                    21727344\n",
       "      Early Childhood Education                2113111222121181\n",
       "      Economics                                              30\n",
       "      Education General                                     295\n",
       "      Electrical Engineering                                868\n",
       "      Elementary Education               6123142465752140173246\n",
       "      Engineering Mechanics                                  72\n",
       "      Engineering Physics                                   102\n",
       "      Finance                                            626145\n",
       "      Food Science & Human Nutrition                 4840759995\n",
       "      Forestry                                               41\n",
       "                                                  ...          \n",
       "2018  Elementary Education                                  294\n",
       "      Engineering Mechanics                                 112\n",
       "      Engineering Physics                                   275\n",
       "      Finance                                               630\n",
       "      Food Science & Human Nutrition                  766813554\n",
       "      Geology                                              4733\n",
       "      Horticulture                                            1\n",
       "      Human Development & Family St                       56179\n",
       "      Industrial Engineering                                271\n",
       "      Information Sys & Info Tech                          5746\n",
       "      Information Systems                                   322\n",
       "      Interdisciplinary Health Sci                    869546101\n",
       "      Journalism                                            222\n",
       "      Kinesiology                                         55014\n",
       "      Learning and Education Studies                  112121211\n",
       "      Management                                     2351173313\n",
       "      Marketing                                          106134\n",
       "      Materials Science & Engr                     207249141421\n",
       "      Mechanical Engineering                                860\n",
       "      Media and Cinema Studies                           121985\n",
       "      Middle Grades Education                          44351326\n",
       "      Natural Resrcs & Environ Sci                  59422502068\n",
       "      Nuclear, Plasma, Radiolgc Engr                   47442210\n",
       "      Operations Management                                  65\n",
       "      Physics                                               202\n",
       "      Recreation, Sport, and Tourism                  321828187\n",
       "      Special Education                                     107\n",
       "      Speech & Hearing Science                       9146111462\n",
       "      Supply Chain Management                              7015\n",
       "      Systems Engineering and Design                        249\n",
       "Name: Total, Length: 755, dtype: object"
      ]
     },
     "execution_count": 126,
     "metadata": {},
     "output_type": "execute_result"
    }
   ],
   "source": [
    "import pandas as pd\n",
    "import numpy as np\n",
    "\n",
    "df = pd.read_csv(\"students.csv\")\n",
    "df = df[df[\"Degree\"] == \"BS\"]\n",
    "df  = df[[\"Fall\", \"College\", \"Major Name\", \"Total\"]]\n",
    "df.sort_values(by=\"Fall\", inplace = True)\n",
    "df = df[df[\"Major Name\"] != float('nan')]\n",
    "df.groupby(by=[\"Fall\", \"Major Name\"])[\"Total\"].agg(sum)"
   ]
  },
  {
   "cell_type": "code",
   "execution_count": null,
   "metadata": {},
   "outputs": [],
   "source": [
    "df.to_csv(\"relevant_values.csv\")"
   ]
  }
 ],
 "metadata": {
  "kernelspec": {
   "display_name": "Python 3",
   "language": "python",
   "name": "python3"
  },
  "language_info": {
   "codemirror_mode": {
    "name": "ipython",
    "version": 3
   },
   "file_extension": ".py",
   "mimetype": "text/x-python",
   "name": "python",
   "nbconvert_exporter": "python",
   "pygments_lexer": "ipython3",
   "version": "3.7.2"
  }
 },
 "nbformat": 4,
 "nbformat_minor": 2
}
